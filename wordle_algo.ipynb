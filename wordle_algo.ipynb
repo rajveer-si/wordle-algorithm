{
  "nbformat": 4,
  "nbformat_minor": 0,
  "metadata": {
    "colab": {
      "provenance": [],
      "authorship_tag": "ABX9TyMNaivdkM93keiyNRaEbRE/",
      "include_colab_link": true
    },
    "kernelspec": {
      "name": "python3",
      "display_name": "Python 3"
    },
    "language_info": {
      "name": "python"
    }
  },
  "cells": [
    {
      "cell_type": "markdown",
      "metadata": {
        "id": "view-in-github",
        "colab_type": "text"
      },
      "source": [
        "<a href=\"https://colab.research.google.com/github/rajveer-si/wordle-algorithm/blob/main/wordle_algo.ipynb\" target=\"_parent\"><img src=\"https://colab.research.google.com/assets/colab-badge.svg\" alt=\"Open In Colab\"/></a>"
      ]
    },
    {
      "cell_type": "markdown",
      "source": [
        "Wordle Algorithm\n",
        "\n",
        "Uses regex matching for sifting through words to get best possible match\n",
        "\n",
        "word list obtained from: https://www-cs-faculty.stanford.edu/~knuth/sgb-words.txt"
      ],
      "metadata": {
        "id": "7bEO2fmmkoEA"
      }
    },
    {
      "cell_type": "code",
      "source": [
        "import re"
      ],
      "metadata": {
        "id": "OwT-rMZ6krn6"
      },
      "execution_count": 36,
      "outputs": []
    },
    {
      "cell_type": "markdown",
      "source": [
        "Reading the file and compiling all the words into a list\n"
      ],
      "metadata": {
        "id": "tr2GEFjPzR1I"
      }
    },
    {
      "cell_type": "code",
      "source": [
        "# Define the path to the file\n",
        "file_path = 'word-list.txt'\n",
        "\n",
        "# Initialize an empty list to hold the words\n",
        "word_list = []\n",
        "\n",
        "# Open the file and read the words\n",
        "try:\n",
        "    with open(file_path, 'r') as file:\n",
        "        # Read each line in the file, strip newline characters, and add to the list\n",
        "        word_list = [line.strip() for line in file]\n",
        "except Exception as e:\n",
        "    print(f\"Error reading file: {e}\")\n",
        "\n"
      ],
      "metadata": {
        "id": "QaMlpRTwlT3C"
      },
      "execution_count": 37,
      "outputs": []
    },
    {
      "cell_type": "markdown",
      "source": [
        "Character set for each letter of the word"
      ],
      "metadata": {
        "id": "A9grEPWizP1N"
      }
    },
    {
      "cell_type": "code",
      "source": [
        "lset = \"abcdefghijklmnopqrstuvwxyz\"\n",
        "# make a character set for each possible letter\n",
        "sets = [lset, lset, lset, lset, lset]"
      ],
      "metadata": {
        "id": "_eyFAjfoxTta"
      },
      "execution_count": 38,
      "outputs": []
    },
    {
      "cell_type": "code",
      "source": [
        "# function to check if word contains every character in sub (any combination)\n",
        "def containing(word, sub):\n",
        "    test = [char for char in sub]\n",
        "    for i in range(len(sub)):\n",
        "        if sub[i] in word:\n",
        "            test = test[1:]\n",
        "\n",
        "    return len(test) == 0\n",
        ""
      ],
      "metadata": {
        "id": "6FHzvN-QAn7S"
      },
      "execution_count": 39,
      "outputs": []
    },
    {
      "cell_type": "markdown",
      "source": [
        "Input is taken as two strings\n",
        "\n",
        "first string: actual word typed into wordle\n",
        "\n",
        "second string: response from wordle mapped as\n",
        "\n",
        "` g- green (letter match) `\n",
        "\n",
        "`y- yellow (letter present but wrong position) `\n",
        "\n",
        "`x- gray (letter absent) `\n"
      ],
      "metadata": {
        "id": "N9Ovxj1azbBa"
      }
    },
    {
      "cell_type": "code",
      "source": [
        "for i in range(1, 6):\n",
        "\n",
        "  if i != 1:\n",
        "    resp = \"Use best word? (y/n): \"\n",
        "\n",
        "  word = input(\"Enter your word: \")\n",
        "  output = input(\"Enter wordle response: \")\n",
        "\n",
        "  if (output == 'ggggg'):\n",
        "    print(\"You Won!\")\n",
        "    break\n",
        "\n",
        "  contains = \"\"\n",
        "  response = tuple(zip(word, output))\n",
        "\n",
        "  for j in range(5):\n",
        "    if response[j][1] == 'x':\n",
        "      sets[j] = sets[j].replace(word[j], '')\n",
        "    elif response[j][1] == 'y':\n",
        "      sets[j] = sets[j].replace(word[j], '')\n",
        "      contains += word[j]\n",
        "    elif response[j][1] == 'g':\n",
        "      sets[j] = word[j]\n",
        "      contains += word[j]\n",
        "\n",
        "  pattern = f\"[{sets[0]}][{sets[1]}][{sets[2]}][{sets[3]}][{sets[4]}]\"\n",
        "\n",
        "  word_list = [w for w in word_list if re.match(pattern, w) and containing(w, contains)]\n",
        "\n",
        "  print(\"Best choices: \", word_list[:10])\n"
      ],
      "metadata": {
        "colab": {
          "base_uri": "https://localhost:8080/"
        },
        "id": "dSq3Sgj9ybHk",
        "outputId": "5e8eca11-ab2c-47e2-cfb4-f71ec18c9c21"
      },
      "execution_count": 40,
      "outputs": [
        {
          "output_type": "stream",
          "name": "stdout",
          "text": [
            "Enter your word: earth\n",
            "Enter wordle response: ggggg\n",
            "You Won!\n"
          ]
        }
      ]
    },
    {
      "cell_type": "code",
      "source": [],
      "metadata": {
        "id": "-sB3lk9ujrnQ"
      },
      "execution_count": 40,
      "outputs": []
    }
  ]
}